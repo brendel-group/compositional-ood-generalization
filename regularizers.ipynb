{
 "cells": [
  {
   "cell_type": "code",
   "execution_count": 2,
   "metadata": {},
   "outputs": [],
   "source": [
    "import math\n",
    "import torch\n",
    "import torch.nn as nn\n",
    "\n",
    "if torch.cuda.is_available():\n",
    "    dev = 'cuda:0'\n",
    "else:\n",
    "    dev = 'cpu'\n",
    "device = torch.device(dev)\n",
    "\n",
    "def get_generators(k: int, l: int, m: int, D: int=50) -> list[torch.nn.Module]:\n",
    "    return [build_generator(l, m, D) for _ in range(k)]\n",
    "\n",
    "\n",
    "@torch.no_grad()\n",
    "def get_regression_targets(n:int, k: int, l: int, generators: list[torch.nn.Module], sample_mode: str='random', correlation: float=0, delta: float=0) -> tuple[torch.Tensor, torch.Tensor]:\n",
    "    if sample_mode == 'random':\n",
    "        z = torch.rand(n, k, l)\n",
    "    elif sample_mode == 'diagonal':\n",
    "        _n = 10*n\n",
    "        z = torch.Tensor(0, k, l)\n",
    "        while z.shape[0] < n:\n",
    "            # sample randomly on diagonal\n",
    "            _z = torch.repeat_interleave(torch.rand(n, l), k, dim=0).reshape(n, k, l)\n",
    "            # apply random offset\n",
    "            _z += torch.rand(n, k, l) * 2 * delta - delta\n",
    "            # reject samples outside the domain\n",
    "            mask = ~((_z - 0.5).abs() > 0.5).flatten(1).any(1)\n",
    "            idx = mask.nonzero().squeeze()\n",
    "            z = torch.cat([z, _z[idx]])\n",
    "        z = z[:n]\n",
    "    elif sample_mode == 'off_diagonal':\n",
    "        _n = 10*n\n",
    "        z = torch.Tensor(0, k, l)\n",
    "        while z.shape[0] < n:\n",
    "            # sample randomly in whole space\n",
    "            _z = torch.rand(_n, k, l)  \n",
    "            # compute distances between blocks\n",
    "            triuidx = torch.triu_indices(k, k)  \n",
    "            mutual_distances = (_z.unsqueeze(1).repeat(1, _z.shape[1], 1, 1) - _z.unsqueeze(1).repeat(1, _z.shape[1], 1, 1).transpose(1, 2))[:, triuidx[0], triuidx[1], :]\n",
    "            # reject samples on diagonal\n",
    "            mask = (mutual_distances.abs() > 2*delta).any(dim=1).all(dim=1)\n",
    "            idx = mask.nonzero().squeeze()\n",
    "            z = torch.cat([z, _z[idx]])\n",
    "        z = z[:n]\n",
    "    elif sample_mode == 'orthogonal':\n",
    "        _z = torch.rand(n, l)\n",
    "        mask = torch.stack([torch.arange(n), torch.randint(k, (n, 1)).squeeze(dim=1)], dim=1).long()\n",
    "        z = torch.zeros(n, k, l)\n",
    "        z[mask.chunk(chunks=2, dim=1)] = _z.unsqueeze(1)\n",
    "    elif sample_mode == 'mix':\n",
    "        n_diag = int(n * correlation,)\n",
    "        _z_diag = torch.repeat_interleave(torch.rand(n_diag, l), k, dim=0).reshape(n_diag, k, l)\n",
    "        _z_rand = torch.rand(n - n_diag, k, l)\n",
    "        z = torch.cat([_z_diag, _z_rand])[torch.randperm(n)]\n",
    "    \n",
    "    x = [torch.stack([generators[j](z[i][j]) for j in range(k)]) for i in range(n)]\n",
    "    x = torch.stack(x)\n",
    "\n",
    "    return z, x\n",
    "\n",
    "def build_generator(l: int, m: int, D: int, slope: float=0.2) -> nn.Sequential:\n",
    "    g = nn.Sequential(\n",
    "        nn.Linear(l, D),\n",
    "        nn.LeakyReLU(slope),\n",
    "        nn.Linear(D, m),\n",
    "        nn.LeakyReLU(slope)\n",
    "    )\n",
    "    g.apply(init_min_cond)\n",
    "    return g\n",
    "\n",
    "\n",
    "def init_min_cond(m: torch.nn.Module, n_samples: int=7500) -> torch.Tensor:\n",
    "    if isinstance(m, nn.Linear):\n",
    "        w = m.weight.data\n",
    "        k = 1 / w.size(0)\n",
    "\n",
    "        w = torch.nn.functional.normalize(w, p=2)\n",
    "        cond = condition_number(w)\n",
    "\n",
    "        for _ in range(n_samples):\n",
    "            _w = 2 * math.sqrt(k) * torch.rand(w.size()) - math.sqrt(k)\n",
    "            _w = nn.functional.normalize(_w, p=2)\n",
    "            _cond = condition_number(_w)\n",
    "\n",
    "            if _cond < cond:\n",
    "                w = _w\n",
    "                cond = _cond\n",
    "        \n",
    "        m.weight.data = w\n",
    "\n",
    "\n",
    "def condition_number(t: torch.Tensor) -> float:\n",
    "    return torch.norm(t, p=2) / torch.norm(torch.pinverse(t), p=2)\n"
   ]
  },
  {
   "cell_type": "code",
   "execution_count": 3,
   "metadata": {},
   "outputs": [],
   "source": [
    "def build_MLP(d_in: int, d_out: int, D: int=120, slope: float=0.2, **kwargs) -> nn.Sequential:\n",
    "    return nn.Sequential(\n",
    "        nn.Linear(d_in, D),\n",
    "        nn.LeakyReLU(slope),\n",
    "        nn.Linear(D, d_out),\n",
    "        nn.LeakyReLU(slope)\n",
    "    )\n",
    "\n",
    "\n",
    "def MLP(k: int, l: int, m: int, D: int=120, **kwargs):\n",
    "    return build_MLP(k * m, k * l, D, **kwargs)\n",
    "\n",
    "\n",
    "def MLPTanh(k: int, l: int, m: int, D: int=120, **kwargs):\n",
    "    return nn.Sequential(\n",
    "        nn.Linear(k * m, D),\n",
    "        nn.Tanh(),\n",
    "        nn.Linear(D, k * l),\n",
    "        nn.Tanh()\n",
    "    )\n",
    "\n",
    "\n",
    "class CompositionalMLP(torch.nn.Module):\n",
    "    def __init__(self, k: int, l: int, m: int, D: int=120, **kwargs):\n",
    "        super(CompositionalMLP, self).__init__()\n",
    "        self.k = k\n",
    "        self.models = nn.ModuleList([build_MLP(k * m, l, round(D / k), **kwargs) for _ in range(k)])\n",
    "    \n",
    "    def forward(self, x):\n",
    "        x = x.reshape(x.size(0), self.k, -1)\n",
    "        out = []\n",
    "        for i in range(len(self.models)):\n",
    "            x_i = torch.zeros_like(x)\n",
    "            x_i[:, i, :] = x[:, i, :]\n",
    "            x_i = torch.flatten(x_i, start_dim = 1)\n",
    "            out.append(self.models[i](x_i))\n",
    "        return torch.cat(out, dim=1)\n",
    "\n",
    "\n",
    "class Autoencoder(torch.nn.Module):\n",
    "    def __init__(self, k: int, l: int, m: int, D: int=120, **kwargs):\n",
    "        super(Autoencoder, self).__init__()\n",
    "        self.f = build_MLP(k * m, k * l, D, **kwargs)\n",
    "        self.g = build_MLP(k * l, k * m, D, **kwargs)\n",
    "    \n",
    "    def forward(self, x):\n",
    "        z = self.f(x)\n",
    "        out = self.g(z)\n",
    "        return out, z"
   ]
  },
  {
   "cell_type": "code",
   "execution_count": 4,
   "metadata": {},
   "outputs": [],
   "source": [
    "import torch\n",
    "import torch.nn as nn\n",
    "import torch.optim as optim\n",
    "import functorch\n",
    "from torchmetrics import R2Score\n",
    "from tqdm import tqdm\n",
    "\n",
    "\n",
    "# could be more efficient with torch.utils.data.TensorDataset, but I couldn't be assed to look up the documentation\n",
    "class Dataset(torch.utils.data.Dataset):\n",
    "    def __init__(self, n: int, k: int, l: int, generators: list[torch.nn.Module], **sample_kwargs):\n",
    "        super(Dataset, self).__init__()\n",
    "        self.n = n\n",
    "        self.z, self.x = get_regression_targets(n, k, l, generators, **sample_kwargs)\n",
    "    \n",
    "    def __len__(self):\n",
    "        return self.n\n",
    "    \n",
    "    def __getitem__(self, idx):\n",
    "        return self.x[idx], self.z[idx]\n",
    "\n",
    "\n",
    "class OODDataset(Dataset):\n",
    "    def __init__(self, n: int, k: int, l: int, generators: list[torch.nn.Module], **sample_kwargs):\n",
    "        super(Dataset, self).__init__()\n",
    "        self.n = n\n",
    "        if sample_kwargs['sample_mode'] == 'diagonal':\n",
    "            sample_kwargs['sample_mode'] = 'off_diagonal'\n",
    "        else:\n",
    "            raise NotImplementedError\n",
    "        self.z, self.x = get_regression_targets(n, k, l, generators, **sample_kwargs)\n",
    "\n",
    "\n",
    "def train(model: torch.nn.Module, trainloader: torch.utils.data.DataLoader, lr: float=0.001, epochs: int=10):\n",
    "    criterion = nn.MSELoss()\n",
    "    optimizer = optim.SGD(model.parameters(), lr=0.001, momentum=0.9)\n",
    "\n",
    "    # for epoch in tqdm(range(epochs)):\n",
    "    for epoch in range(epochs):\n",
    "        cum_loss = 0\n",
    "\n",
    "        for batch, data in enumerate(trainloader, 0):\n",
    "            x, z = data\n",
    "\n",
    "            optimizer.zero_grad()\n",
    "\n",
    "            out = model(torch.flatten(x, start_dim=1))\n",
    "            loss = criterion(out, torch.flatten(z, start_dim=1))\n",
    "            cum_loss += loss\n",
    "            loss.backward()\n",
    "            optimizer.step()\n",
    "        \n",
    "        cum_loss /= (batch + 1)\n",
    "    \n",
    "    return cum_loss\n",
    "\n",
    "\n",
    "# train for the same number of iterations (batches) independent of dataset size (i.e. without epochs)\n",
    "def train_iter(model: torch.nn.Module, trainloader: torch.utils.data.DataLoader, lr: float=0.001, regularization: torch.nn.Module=None, lamda: float=0.5, **reg_kwargs):\n",
    "    criterion = nn.MSELoss()\n",
    "    optimizer = optim.SGD(model.parameters(), lr=lr, momentum=0.9)\n",
    "\n",
    "    cum_loss = 0\n",
    "\n",
    "    for batch, data in enumerate(trainloader, 0):\n",
    "        x, z = data\n",
    "\n",
    "        optimizer.zero_grad()\n",
    "\n",
    "        x.requires_grad = True\n",
    "        x = x.flatten(1).to(dev)\n",
    "        z = z.flatten(1).to(dev)\n",
    "\n",
    "        z_hat = model(x)\n",
    "        loss = criterion(z_hat, z)\n",
    "        if regularization is not None:\n",
    "            loss += lamda * regularization(model, x, **reg_kwargs)\n",
    "        cum_loss += loss\n",
    "        loss.backward()\n",
    "        optimizer.step()\n",
    "    \n",
    "    cum_loss /= (batch + 1)\n",
    "    return cum_loss.to(torch.device('cpu')).item()\n",
    "\n",
    "\n",
    "# train for the same number of iterations (batches) independent of dataset size (i.e. without epochs)\n",
    "def train_iter_reg_ae(enc: torch.nn.Module, dec: torch.nn.Module, trainloader: torch.utils.data.DataLoader, regularization, lamda: float=0.5, lr: float=0.001):\n",
    "    criterion = nn.MSELoss()\n",
    "    reconstruction = nn.L1Loss()\n",
    "    optimizer = optim.SGD({'encoder': enc.parameters(), 'decoder': dec.parameters()}, lr=lr, momentum=0.9)\n",
    "\n",
    "    cum_loss = 0\n",
    "\n",
    "    for batch, data in enumerate(trainloader, 0):\n",
    "        x, z = data\n",
    "\n",
    "        optimizer.zero_grad()\n",
    "\n",
    "        x.requires_grad = True\n",
    "        x = x.flatten(1).to(dev)\n",
    "        z = z.flatten(1).to(dev)\n",
    "\n",
    "        z_hat = enc(x)\n",
    "        x_hat = dec(z_hat)\n",
    "        loss = criterion(z_hat, z) + reconstruction (x, x_hat) + lamda * regularization(dec, x)\n",
    "        cum_loss += loss\n",
    "        loss.backward()\n",
    "        optimizer.step()\n",
    "    \n",
    "    cum_loss /= (batch + 1)\n",
    "    return cum_loss.to(torch.device('cpu')).item()\n",
    "\n",
    "\n",
    "def comp_contrast(func: torch.nn.Module, inputs: torch.Tensor, **kwargs) -> torch.Tensor:\n",
    "    \"\"\"Calculate the compositional contrast for a function `func` with respect to `inputs`.\n",
    "\n",
    "    The output is calculated as the mean over the batch dimension.\n",
    "    `inputs` needs to be flattened except for the batch dimension and `requires_grad` needs to be set to `True`.\n",
    "    \"\"\"\n",
    "    assert inputs.requires_grad == True, 'To calculate the derivative by `inputs` `requires_grad` needs to be set to `True`.'\n",
    "\n",
    "    # compute the jacobian with respect to the inputs\n",
    "    jac = functorch.vmap(functorch.jacrev(func))(inputs).transpose(1, 2)\n",
    "\n",
    "    # compute the compositional contrast as the sum of all pairs of partial derivatives for all outputs\n",
    "    # average over the batch dimension\n",
    "    cc = torch.abs(jac.unsqueeze(2).repeat(1, 1, jac.shape[2], 1)) * torch.abs(jac.unsqueeze(2).repeat(1, 1, jac.shape[2], 1).transpose(2, 3))\n",
    "\n",
    "    block_diagonal = torch.block_diag(*torch.ones(4, 2, 2, dtype=bool)).to(dev)\n",
    "\n",
    "    cc = torch.where(~block_diagonal, cc, 0).triu(1).sum((1, 2, 3)).mean()\n",
    "\n",
    "    return cc\n",
    "\n",
    "\n",
    "def sparse_hess(func: torch.nn.Module, inputs: torch.Tensor, p: int=0, **kwargs) -> torch.Tensor:\n",
    "    hess = functorch.vmap(functorch.hessian(func))(inputs)\n",
    "\n",
    "    return torch.mean(hess.norm(dim=(1, 2, 3), p=p))\n",
    "\n",
    "\n",
    "def sparse_hess2(func: torch.nn.Module, inputs: torch.Tensor) -> torch.Tensor:\n",
    "    # FIXME change sum() to norm\n",
    "    mask = torch.ones(8, 40, 40, dtype=torch.uint8).to(dev)\n",
    "    for i in range(4):\n",
    "        mask[i*2:(i+1)*2, i*10:(i+1)*10, i*10:(i+1)*10] = 0\n",
    "    \n",
    "    hess = functorch.vmap(functorch.hessian(func))(inputs)\n",
    "\n",
    "    return torch.masked_select(hess, mask).sum()\n",
    "\n",
    "\n",
    "@torch.no_grad()\n",
    "def test(model: torch.nn.Module, testloader: torch.utils.data.DataLoader):\n",
    "    cum_score = 0\n",
    "\n",
    "    for batch, data in enumerate(testloader, 0):\n",
    "        x, z = data\n",
    "        out = model(torch.flatten(x.to(dev), start_dim=1))\n",
    "        r2score = R2Score(out.size(1)).to(dev)\n",
    "        score = r2score(out, torch.flatten(z.to(dev), start_dim=1))\n",
    "        cum_score += score\n",
    "    \n",
    "    cum_score /= (batch + 1)\n",
    "    return cum_score.to(torch.device('cpu')).item()"
   ]
  },
  {
   "cell_type": "code",
   "execution_count": 5,
   "metadata": {},
   "outputs": [
    {
     "name": "stdout",
     "output_type": "stream",
     "text": [
      "Build generators...\n",
      "Build test data...\n"
     ]
    }
   ],
   "source": [
    "import copy\n",
    "\n",
    "k = 4\n",
    "l = 2\n",
    "m = 10\n",
    "\n",
    "torch.manual_seed(0)\n",
    "\n",
    "print('Build generators...')\n",
    "g = get_generators(k, l, m)\n",
    "\n",
    "print('Build test data...')\n",
    "te_ds = Dataset(1000, k, l, g, sample_mode='random')\n",
    "te_ldr = torch.utils.data.DataLoader(te_ds, batch_size=1000, shuffle=True)"
   ]
  },
  {
   "cell_type": "code",
   "execution_count": 28,
   "metadata": {},
   "outputs": [
    {
     "data": {
      "application/vnd.jupyter.widget-view+json": {
       "model_id": "4ca9af3e18094ebc87ed65bc0e93cba6",
       "version_major": 2,
       "version_minor": 0
      },
      "text/plain": [
       "  0%|          | 0/9 [00:00<?, ?it/s]"
      ]
     },
     "metadata": {},
     "output_type": "display_data"
    },
    {
     "data": {
      "application/vnd.jupyter.widget-view+json": {
       "model_id": "94a3cb39be95448fb0a0ed3f9df2e5c0",
       "version_major": 2,
       "version_minor": 0
      },
      "text/plain": [
       "  0%|          | 0/4 [00:00<?, ?it/s]"
      ]
     },
     "metadata": {},
     "output_type": "display_data"
    },
    {
     "data": {
      "application/vnd.jupyter.widget-view+json": {
       "model_id": "e3f7521b258f4e7a87921af1a02accf2",
       "version_major": 2,
       "version_minor": 0
      },
      "text/plain": [
       "  0%|          | 0/1000 [00:00<?, ?it/s]"
      ]
     },
     "metadata": {},
     "output_type": "display_data"
    },
    {
     "data": {
      "application/vnd.jupyter.widget-view+json": {
       "model_id": "30ffd86a3e7f4d6e9fc2e3a6a22101d4",
       "version_major": 2,
       "version_minor": 0
      },
      "text/plain": [
       "  0%|          | 0/1000 [00:00<?, ?it/s]"
      ]
     },
     "metadata": {},
     "output_type": "display_data"
    },
    {
     "data": {
      "application/vnd.jupyter.widget-view+json": {
       "model_id": "6b6c37c4c732491aa6eb58697b4f2560",
       "version_major": 2,
       "version_minor": 0
      },
      "text/plain": [
       "  0%|          | 0/1000 [00:00<?, ?it/s]"
      ]
     },
     "metadata": {},
     "output_type": "display_data"
    },
    {
     "data": {
      "application/vnd.jupyter.widget-view+json": {
       "model_id": "6808d526beb847cbbb8f11aaa741fce1",
       "version_major": 2,
       "version_minor": 0
      },
      "text/plain": [
       "  0%|          | 0/1000 [00:00<?, ?it/s]"
      ]
     },
     "metadata": {},
     "output_type": "display_data"
    },
    {
     "data": {
      "application/vnd.jupyter.widget-view+json": {
       "model_id": "25a46a9ecf234b1c8db1657565c9c2e5",
       "version_major": 2,
       "version_minor": 0
      },
      "text/plain": [
       "  0%|          | 0/4 [00:00<?, ?it/s]"
      ]
     },
     "metadata": {},
     "output_type": "display_data"
    },
    {
     "data": {
      "application/vnd.jupyter.widget-view+json": {
       "model_id": "0c392834d325478b8bddb11999e1d85b",
       "version_major": 2,
       "version_minor": 0
      },
      "text/plain": [
       "  0%|          | 0/1000 [00:00<?, ?it/s]"
      ]
     },
     "metadata": {},
     "output_type": "display_data"
    },
    {
     "data": {
      "application/vnd.jupyter.widget-view+json": {
       "model_id": "d92e63711d1549dfba53e252376d6886",
       "version_major": 2,
       "version_minor": 0
      },
      "text/plain": [
       "  0%|          | 0/1000 [00:00<?, ?it/s]"
      ]
     },
     "metadata": {},
     "output_type": "display_data"
    },
    {
     "data": {
      "application/vnd.jupyter.widget-view+json": {
       "model_id": "909e0708b7c94c69bf0f214ab8ee5548",
       "version_major": 2,
       "version_minor": 0
      },
      "text/plain": [
       "  0%|          | 0/1000 [00:00<?, ?it/s]"
      ]
     },
     "metadata": {},
     "output_type": "display_data"
    },
    {
     "data": {
      "application/vnd.jupyter.widget-view+json": {
       "model_id": "b8f6df62e69645799b6d5e6c0d56b6b8",
       "version_major": 2,
       "version_minor": 0
      },
      "text/plain": [
       "  0%|          | 0/1000 [00:00<?, ?it/s]"
      ]
     },
     "metadata": {},
     "output_type": "display_data"
    },
    {
     "data": {
      "application/vnd.jupyter.widget-view+json": {
       "model_id": "db6992b26af64541984ed8d3394d60dd",
       "version_major": 2,
       "version_minor": 0
      },
      "text/plain": [
       "  0%|          | 0/4 [00:00<?, ?it/s]"
      ]
     },
     "metadata": {},
     "output_type": "display_data"
    },
    {
     "data": {
      "application/vnd.jupyter.widget-view+json": {
       "model_id": "b1a9fc367acf49a7b21659026bba89f3",
       "version_major": 2,
       "version_minor": 0
      },
      "text/plain": [
       "  0%|          | 0/1000 [00:00<?, ?it/s]"
      ]
     },
     "metadata": {},
     "output_type": "display_data"
    },
    {
     "data": {
      "application/vnd.jupyter.widget-view+json": {
       "model_id": "319472ee8c494c9ea189b648ae960188",
       "version_major": 2,
       "version_minor": 0
      },
      "text/plain": [
       "  0%|          | 0/1000 [00:00<?, ?it/s]"
      ]
     },
     "metadata": {},
     "output_type": "display_data"
    },
    {
     "data": {
      "application/vnd.jupyter.widget-view+json": {
       "model_id": "91cef0de51b24e6a97639e5ce2a7d44d",
       "version_major": 2,
       "version_minor": 0
      },
      "text/plain": [
       "  0%|          | 0/1000 [00:00<?, ?it/s]"
      ]
     },
     "metadata": {},
     "output_type": "display_data"
    },
    {
     "data": {
      "application/vnd.jupyter.widget-view+json": {
       "model_id": "c14ee8984baf4df3a3480ea8896ba043",
       "version_major": 2,
       "version_minor": 0
      },
      "text/plain": [
       "  0%|          | 0/1000 [00:00<?, ?it/s]"
      ]
     },
     "metadata": {},
     "output_type": "display_data"
    },
    {
     "data": {
      "application/vnd.jupyter.widget-view+json": {
       "model_id": "8d09a00cb6e0438db903ccc488eecbb1",
       "version_major": 2,
       "version_minor": 0
      },
      "text/plain": [
       "  0%|          | 0/4 [00:00<?, ?it/s]"
      ]
     },
     "metadata": {},
     "output_type": "display_data"
    },
    {
     "data": {
      "application/vnd.jupyter.widget-view+json": {
       "model_id": "1b6c0f7263424e4495cff2e7aa649b7f",
       "version_major": 2,
       "version_minor": 0
      },
      "text/plain": [
       "  0%|          | 0/1000 [00:00<?, ?it/s]"
      ]
     },
     "metadata": {},
     "output_type": "display_data"
    },
    {
     "data": {
      "application/vnd.jupyter.widget-view+json": {
       "model_id": "885434ae8ca54ff38355dfb08765e95f",
       "version_major": 2,
       "version_minor": 0
      },
      "text/plain": [
       "  0%|          | 0/1000 [00:00<?, ?it/s]"
      ]
     },
     "metadata": {},
     "output_type": "display_data"
    },
    {
     "data": {
      "application/vnd.jupyter.widget-view+json": {
       "model_id": "d58369f77cde4fd69c6b83ab1c3f15d6",
       "version_major": 2,
       "version_minor": 0
      },
      "text/plain": [
       "  0%|          | 0/1000 [00:00<?, ?it/s]"
      ]
     },
     "metadata": {},
     "output_type": "display_data"
    },
    {
     "data": {
      "application/vnd.jupyter.widget-view+json": {
       "model_id": "01f45b95da9943f7a4de63d75022ed26",
       "version_major": 2,
       "version_minor": 0
      },
      "text/plain": [
       "  0%|          | 0/1000 [00:00<?, ?it/s]"
      ]
     },
     "metadata": {},
     "output_type": "display_data"
    },
    {
     "data": {
      "application/vnd.jupyter.widget-view+json": {
       "model_id": "85c4cece5c674b8ea3c77a91ba86a029",
       "version_major": 2,
       "version_minor": 0
      },
      "text/plain": [
       "  0%|          | 0/4 [00:00<?, ?it/s]"
      ]
     },
     "metadata": {},
     "output_type": "display_data"
    },
    {
     "data": {
      "application/vnd.jupyter.widget-view+json": {
       "model_id": "f02d9d041d33465abe70af5213af1d4a",
       "version_major": 2,
       "version_minor": 0
      },
      "text/plain": [
       "  0%|          | 0/1000 [00:00<?, ?it/s]"
      ]
     },
     "metadata": {},
     "output_type": "display_data"
    },
    {
     "data": {
      "application/vnd.jupyter.widget-view+json": {
       "model_id": "2d13fdace9c9456baa24db0c4681f6d2",
       "version_major": 2,
       "version_minor": 0
      },
      "text/plain": [
       "  0%|          | 0/1000 [00:00<?, ?it/s]"
      ]
     },
     "metadata": {},
     "output_type": "display_data"
    },
    {
     "data": {
      "application/vnd.jupyter.widget-view+json": {
       "model_id": "8ae79287d5594bc1ad8baf3306883574",
       "version_major": 2,
       "version_minor": 0
      },
      "text/plain": [
       "  0%|          | 0/1000 [00:00<?, ?it/s]"
      ]
     },
     "metadata": {},
     "output_type": "display_data"
    },
    {
     "data": {
      "application/vnd.jupyter.widget-view+json": {
       "model_id": "7e142b735d9f48f790dc719ebd276c7f",
       "version_major": 2,
       "version_minor": 0
      },
      "text/plain": [
       "  0%|          | 0/1000 [00:00<?, ?it/s]"
      ]
     },
     "metadata": {},
     "output_type": "display_data"
    },
    {
     "data": {
      "application/vnd.jupyter.widget-view+json": {
       "model_id": "57c53da8295948588dcff9069f26fc6c",
       "version_major": 2,
       "version_minor": 0
      },
      "text/plain": [
       "  0%|          | 0/4 [00:00<?, ?it/s]"
      ]
     },
     "metadata": {},
     "output_type": "display_data"
    },
    {
     "data": {
      "application/vnd.jupyter.widget-view+json": {
       "model_id": "9d13b9b8109c4ffca3f046bd16ecdebb",
       "version_major": 2,
       "version_minor": 0
      },
      "text/plain": [
       "  0%|          | 0/1000 [00:00<?, ?it/s]"
      ]
     },
     "metadata": {},
     "output_type": "display_data"
    },
    {
     "data": {
      "application/vnd.jupyter.widget-view+json": {
       "model_id": "0ef82301a60b425fb4a1f5b33a93bf1a",
       "version_major": 2,
       "version_minor": 0
      },
      "text/plain": [
       "  0%|          | 0/1000 [00:00<?, ?it/s]"
      ]
     },
     "metadata": {},
     "output_type": "display_data"
    },
    {
     "data": {
      "application/vnd.jupyter.widget-view+json": {
       "model_id": "bc9247b8ff1543eabb1c541a985691aa",
       "version_major": 2,
       "version_minor": 0
      },
      "text/plain": [
       "  0%|          | 0/1000 [00:00<?, ?it/s]"
      ]
     },
     "metadata": {},
     "output_type": "display_data"
    },
    {
     "data": {
      "application/vnd.jupyter.widget-view+json": {
       "model_id": "658337f6f1984b9899921249a5de98a3",
       "version_major": 2,
       "version_minor": 0
      },
      "text/plain": [
       "  0%|          | 0/1000 [00:00<?, ?it/s]"
      ]
     },
     "metadata": {},
     "output_type": "display_data"
    },
    {
     "data": {
      "application/vnd.jupyter.widget-view+json": {
       "model_id": "3c2836a3f8a9440abe2f95f917bbbee1",
       "version_major": 2,
       "version_minor": 0
      },
      "text/plain": [
       "  0%|          | 0/4 [00:00<?, ?it/s]"
      ]
     },
     "metadata": {},
     "output_type": "display_data"
    },
    {
     "data": {
      "application/vnd.jupyter.widget-view+json": {
       "model_id": "7c1bd9b7e2b54f9585defb138317dd19",
       "version_major": 2,
       "version_minor": 0
      },
      "text/plain": [
       "  0%|          | 0/1000 [00:00<?, ?it/s]"
      ]
     },
     "metadata": {},
     "output_type": "display_data"
    },
    {
     "data": {
      "application/vnd.jupyter.widget-view+json": {
       "model_id": "574b24d3ea3a4e408188231e47cd4f3a",
       "version_major": 2,
       "version_minor": 0
      },
      "text/plain": [
       "  0%|          | 0/1000 [00:00<?, ?it/s]"
      ]
     },
     "metadata": {},
     "output_type": "display_data"
    },
    {
     "data": {
      "application/vnd.jupyter.widget-view+json": {
       "model_id": "cf26bde9efd944b59ef15dc696d17f0f",
       "version_major": 2,
       "version_minor": 0
      },
      "text/plain": [
       "  0%|          | 0/1000 [00:00<?, ?it/s]"
      ]
     },
     "metadata": {},
     "output_type": "display_data"
    },
    {
     "data": {
      "application/vnd.jupyter.widget-view+json": {
       "model_id": "2e5113c625414e549fdffe6ec588312a",
       "version_major": 2,
       "version_minor": 0
      },
      "text/plain": [
       "  0%|          | 0/1000 [00:00<?, ?it/s]"
      ]
     },
     "metadata": {},
     "output_type": "display_data"
    },
    {
     "data": {
      "application/vnd.jupyter.widget-view+json": {
       "model_id": "2c151963ad5b491a936b83d664f3da4b",
       "version_major": 2,
       "version_minor": 0
      },
      "text/plain": [
       "  0%|          | 0/4 [00:00<?, ?it/s]"
      ]
     },
     "metadata": {},
     "output_type": "display_data"
    },
    {
     "data": {
      "application/vnd.jupyter.widget-view+json": {
       "model_id": "887141abd10e4c93b01d0a3f17a2edc8",
       "version_major": 2,
       "version_minor": 0
      },
      "text/plain": [
       "  0%|          | 0/1000 [00:00<?, ?it/s]"
      ]
     },
     "metadata": {},
     "output_type": "display_data"
    },
    {
     "data": {
      "application/vnd.jupyter.widget-view+json": {
       "model_id": "40ca474b06d147dfbc2c1000f1da1db0",
       "version_major": 2,
       "version_minor": 0
      },
      "text/plain": [
       "  0%|          | 0/1000 [00:00<?, ?it/s]"
      ]
     },
     "metadata": {},
     "output_type": "display_data"
    },
    {
     "data": {
      "application/vnd.jupyter.widget-view+json": {
       "model_id": "044d1de96b0e4d519ea50db8f8efc055",
       "version_major": 2,
       "version_minor": 0
      },
      "text/plain": [
       "  0%|          | 0/1000 [00:00<?, ?it/s]"
      ]
     },
     "metadata": {},
     "output_type": "display_data"
    },
    {
     "data": {
      "application/vnd.jupyter.widget-view+json": {
       "model_id": "142949e749ca481581a2e68872802885",
       "version_major": 2,
       "version_minor": 0
      },
      "text/plain": [
       "  0%|          | 0/1000 [00:00<?, ?it/s]"
      ]
     },
     "metadata": {},
     "output_type": "display_data"
    },
    {
     "data": {
      "application/vnd.jupyter.widget-view+json": {
       "model_id": "075253cc6c3f459c8476e069f85ab9c8",
       "version_major": 2,
       "version_minor": 0
      },
      "text/plain": [
       "  0%|          | 0/4 [00:00<?, ?it/s]"
      ]
     },
     "metadata": {},
     "output_type": "display_data"
    },
    {
     "data": {
      "application/vnd.jupyter.widget-view+json": {
       "model_id": "9ec863e11de0408c9beda1077fa2b014",
       "version_major": 2,
       "version_minor": 0
      },
      "text/plain": [
       "  0%|          | 0/1000 [00:00<?, ?it/s]"
      ]
     },
     "metadata": {},
     "output_type": "display_data"
    },
    {
     "data": {
      "application/vnd.jupyter.widget-view+json": {
       "model_id": "40498755795844d7a9c8eb15fae0894d",
       "version_major": 2,
       "version_minor": 0
      },
      "text/plain": [
       "  0%|          | 0/1000 [00:00<?, ?it/s]"
      ]
     },
     "metadata": {},
     "output_type": "display_data"
    },
    {
     "data": {
      "application/vnd.jupyter.widget-view+json": {
       "model_id": "387da0922712497b979995dc240daa44",
       "version_major": 2,
       "version_minor": 0
      },
      "text/plain": [
       "  0%|          | 0/1000 [00:00<?, ?it/s]"
      ]
     },
     "metadata": {},
     "output_type": "display_data"
    },
    {
     "data": {
      "application/vnd.jupyter.widget-view+json": {
       "model_id": "f82d7ff0e9c1413fb8e698e52aa07d46",
       "version_major": 2,
       "version_minor": 0
      },
      "text/plain": [
       "  0%|          | 0/1000 [00:00<?, ?it/s]"
      ]
     },
     "metadata": {},
     "output_type": "display_data"
    },
    {
     "name": "stdout",
     "output_type": "stream",
     "text": [
      "Save results...\n"
     ]
    }
   ],
   "source": [
    "import os\n",
    "import shutil\n",
    "import datetime\n",
    "import pandas as pd\n",
    "import pickle as pk\n",
    "from tqdm.notebook import tqdm\n",
    "\n",
    "iter = 1000\n",
    "bs = 4096\n",
    "lr = 1\n",
    "lr_steps = [5000]\n",
    "experiment_suffix = ''\n",
    "\n",
    "samplings = [\n",
    "    {'str': 'rand', 'name': 'random', 'n': 4096, 'kwargs': {'sample_mode': 'random'}},\n",
    "    {'str': 'orth', 'name': 'orthogonal', 'n': 4096, 'kwargs': {'sample_mode': 'orthogonal'}},\n",
    "    {'str': 'diag', 'name': 'diagonal', 'n': 4096, 'kwargs': {'sample_mode': 'diagonal', 'delta': 0.}},\n",
    "    {'str': 'diag001', 'name': 'diagonal ∆0.01', 'n': 4096, 'kwargs': {'sample_mode': 'diagonal', 'delta': 0.01}},\n",
    "    {'str': 'diag002', 'name': 'diagonal ∆0.02', 'n': 4096, 'kwargs': {'sample_mode': 'diagonal', 'delta': 0.02}},\n",
    "    {'str': 'diag005', 'name': 'diagonal ∆0.05', 'n': 4096, 'kwargs': {'sample_mode': 'diagonal', 'delta': 0.05}},\n",
    "    {'str': 'diag01', 'name': 'diagonal ∆0.1', 'n': 4096, 'kwargs': {'sample_mode': 'diagonal', 'delta': 0.1}},\n",
    "    {'str': 'diag02', 'name': 'diagonal ∆0.2', 'n': 4096, 'kwargs': {'sample_mode': 'diagonal', 'delta': 0.2}},\n",
    "    {'str': 'diag05', 'name': 'diagonal ∆0.5', 'n': 4096, 'kwargs': {'sample_mode': 'diagonal', 'delta': 0.5}},\n",
    "]\n",
    "\n",
    "models = [\n",
    "    # {'str': 'MLP', 'name': 'MLP', 'model': MLPTanh, 'regularizer': None, 'kwargs': {}},\n",
    "    # {'str': 'MLPcomp', 'name': 'compositional MLP', 'model': CompositionalMLP, 'regularizer': None, 'kwargs': {}},\n",
    "    {'str': 'MLPjac', 'name': 'MLP compositional contrast', 'model': MLPTanh, 'regularizer': comp_contrast, 'kwargs': {}},\n",
    "    {'str': 'MLPhes0', 'name': 'MLP sparse hessian L0', 'model': MLPTanh, 'regularizer': sparse_hess, 'kwargs': {'p': 0}},\n",
    "    {'str': 'MLPhes1', 'name': 'MLP sparse hessian L1', 'model': MLPTanh, 'regularizer': sparse_hess, 'kwargs': {'p': 1}},\n",
    "    {'str': 'MLPhes2', 'name': 'MLP sparse hessian L2', 'model': MLPTanh, 'regularizer': sparse_hess, 'kwargs': {'p': 2}},\n",
    "]\n",
    "\n",
    "res = []\n",
    "now = datetime.datetime.now()\n",
    "lr_str = str(lr).replace(\".\", \"\")\n",
    "res_dir = f'res/{now:%Y%m%d%H%M}_i{iter}_lr{lr_str}_bs{bs}{experiment_suffix}'\n",
    "if os.path.exists(res_dir): shutil.rmtree(res_dir)\n",
    "os.mkdir(res_dir)\n",
    "\n",
    "for sampling in tqdm(samplings, position=0):\n",
    "    # print('Build train data...')\n",
    "    n = sampling['n']\n",
    "    n_batches = int(n / bs)\n",
    "    tr_ds = Dataset(n, k, l, g, **sampling['kwargs'])\n",
    "    tr_ldr = torch.utils.data.DataLoader(tr_ds, batch_sampler=torch.utils.data.BatchSampler(torch.utils.data.RandomSampler(tr_ds), bs, False))\n",
    "\n",
    "    for model in tqdm(models, position=1, leave=False):\n",
    "        # print('Build model...')\n",
    "        mdl = model['model'](k, l, m).to(dev)\n",
    "\n",
    "        # print('Train model...')\n",
    "        for i in tqdm(range(iter), position=2, leave=False):\n",
    "            if i in lr_steps: lr *= 0.1\n",
    "\n",
    "            loss = train_iter(mdl, tr_ldr, lr=lr, regularizer=model['regularizer'], **model['kwargs'])\n",
    "            r2 = test(mdl, te_ldr)\n",
    "\n",
    "            res.append({'metric': 'train loss', 'n data': n, 'n samples': (i+1)*bs*n_batches, 'model': model['name'], 'sampling': sampling['name'], 'val': loss})\n",
    "            res.append({'metric': 'test R²', 'n data': n, 'n samples': (i+1)*bs*n_batches, 'model': model['name'], 'sampling': sampling['name'], 'val': r2})\n",
    "        \n",
    "        # print('Save model...')\n",
    "        torch.save(mdl.state_dict(), f\"{res_dir}/{sampling['str']}_{model['str']}.pth\")\n",
    "\n",
    "print('Save results...')\n",
    "res_df = pd.DataFrame.from_dict(res)\n",
    "with open(f'{res_dir}/df.pkl', 'wb') as f:\n",
    "    pk.dump(res_df, f)\n"
   ]
  },
  {
   "cell_type": "code",
   "execution_count": 34,
   "metadata": {},
   "outputs": [
    {
     "data": {
      "image/png": "[encoded data removed]",
      "text/plain": [
       "<Figure size 3413.12x360 with 9 Axes>"
      ]
     },
     "metadata": {
      "needs_background": "light"
     },
     "output_type": "display_data"
    }
   ],
   "source": [
    "import pickle as pk\n",
    "with open(r'res/202208031841_i1000_lr1_bs4096/df.pkl', 'rb') as f:\n",
    "    res_normal = pk.load(f)\n",
    "with open(r'res/202208031847_i1000_lr1_bs4096/df.pkl', 'rb') as f:\n",
    "    res_reged = pk.load(f)\n",
    "res_df = pd.concat([res_normal, res_reged])\n",
    "\n",
    "import seaborn as sb\n",
    "fg = sb.relplot(data=res_df.loc[(res_df['metric'] == 'test R²') & (res_df['n samples'] > 500000)], x='n samples', y='val', hue='model', col='sampling', kind='line')"
   ]
  },
  {
   "cell_type": "code",
   "execution_count": null,
   "metadata": {},
   "outputs": [],
   "source": [
    "import os\n",
    "import shutil\n",
    "import datetime\n",
    "import pandas as pd\n",
    "import pickle as pk\n",
    "from tqdm.notebook import tqdm\n",
    "\n",
    "dirs = ['res/202208031847_i1000_lr1_bs4096', 'res/202208031841_i1000_lr1_bs4096']\n",
    "\n",
    "samplings = [\n",
    "    # {'str': 'orth', 'name': 'orthogonal', 'n': 4096, 'kwargs': {'sample_mode': 'orthogonal'}},\n",
    "    {'str': 'diag', 'name': 'diagonal', 'n': 4096, 'kwargs': {'sample_mode': 'diagonal', 'delta': 0.}},\n",
    "    {'str': 'diag001', 'name': 'diagonal ∆0.01', 'n': 4096, 'kwargs': {'sample_mode': 'diagonal', 'delta': 0.01}},\n",
    "    {'str': 'diag002', 'name': 'diagonal ∆0.02', 'n': 4096, 'kwargs': {'sample_mode': 'diagonal', 'delta': 0.02}},\n",
    "    {'str': 'diag005', 'name': 'diagonal ∆0.05', 'n': 4096, 'kwargs': {'sample_mode': 'diagonal', 'delta': 0.05}},\n",
    "    {'str': 'diag01', 'name': 'diagonal ∆0.1', 'n': 4096, 'kwargs': {'sample_mode': 'diagonal', 'delta': 0.1}},\n",
    "    {'str': 'diag02', 'name': 'diagonal ∆0.2', 'n': 4096, 'kwargs': {'sample_mode': 'diagonal', 'delta': 0.2}},\n",
    "]\n",
    "\n",
    "models = [\n",
    "    {'str': 'MLP', 'name': 'MLP', 'model': MLPTanh, 'regularizer': None, 'kwargs': {}},\n",
    "    {'str': 'MLPjac', 'name': 'MLP compositional contrast', 'model': MLPTanh, 'regularizer': comp_contrast, 'kwargs': {}},\n",
    "    {'str': 'MLPhes0', 'name': 'MLP sparse hessian L0', 'model': MLPTanh, 'regularizer': sparse_hess, 'kwargs': {'p': 0}},\n",
    "    {'str': 'MLPhes1', 'name': 'MLP sparse hessian L1', 'model': MLPTanh, 'regularizer': sparse_hess, 'kwargs': {'p': 1}},\n",
    "    {'str': 'MLPhes2', 'name': 'MLP sparse hessian L2', 'model': MLPTanh, 'regularizer': sparse_hess, 'kwargs': {'p': 2}},\n",
    "]\n",
    "\n",
    "def get_model_file(dirs, model_dict):\n",
    "    for dir in dirs:\n",
    "        model_file = f'{dir}/{sampling[\"str\"]}_{model_dict[\"str\"]}.pth'\n",
    "        if os.path.exists(model_file):\n",
    "            return model_file\n",
    "    return None\n",
    "\n",
    "res = []\n",
    "for sampling in samplings:\n",
    "    # construct ID and OOD sampler\n",
    "    n = 1000\n",
    "    id_ds = Dataset(n, k, l, g, **sampling['kwargs'])\n",
    "    id_ldr = torch.utils.data.DataLoader(id_ds, batch_size=1000, shuffle=True)\n",
    "\n",
    "    ood_ds = Dataset(n, k, l, g, **sampling['kwargs'])\n",
    "    ood_ldr = torch.utils.data.DataLoader(id_ds, batch_size=1000, shuffle=True)\n",
    "    \n",
    "\n",
    "    for model in models:\n",
    "        mdl = model['model'](k, l, m).to(dev)\n",
    "        # try to load model\n",
    "        model_file = get_model_file(dirs, model)\n",
    "        assert model_file is not None\n",
    "        mdl.load_state_dict(torch.load(model_file))\n",
    "\n",
    "        # compute compositional contrast and Hessian sparsity on ID and OOD set"
   ]
  },
  {
   "cell_type": "code",
   "execution_count": null,
   "metadata": {},
   "outputs": [],
   "source": [
    "with open(r'res/i500_lr0001_all.pkl', 'rb') as f:\n",
    "    normal = pk.load(f)\n",
    "    normal = normal.loc[normal['n samples'] == 4096]\n",
    "with open(r'res/i500_lr0001_all_hess.pkl', 'rb') as f:\n",
    "    hess = pk.load(f)\n",
    "with open(r'res/i500_lr0001_all_jac2.pkl', 'rb') as f:\n",
    "    jac = pk.load(f)\n",
    "    jac['model'] = jac['model'].replace({'normal': 'comp contrast'})\n",
    "\n",
    "res_df = pd.merge(jac, hess, 'outer')\n",
    "res_df = pd.merge(res_df, normal, 'outer')"
   ]
  },
  {
   "cell_type": "code",
   "execution_count": null,
   "metadata": {},
   "outputs": [],
   "source": [
    "import seaborn as sb\n",
    "fg = sb.relplot(data=res_df.loc[(res_df['metric'] == 'test R²') & (res_df['n batches'] > 100000)], x='n batches', y='val', hue='model', col='sampling', kind='line')\n",
    "[_fg.set_xlabel('n batches (size 4)') for _fg in fg.axes.ravel()]\n",
    "[_fg.set_ylabel('R² score') for _fg in fg.axes.ravel()]"
   ]
  }
 ],
 "metadata": {
  "kernelspec": {
   "display_name": "Python 3.9.7 ('iood')",
   "language": "python",
   "name": "python3"
  },
  "language_info": {
   "codemirror_mode": {
    "name": "ipython",
    "version": 3
   },
   "file_extension": ".py",
   "mimetype": "text/x-python",
   "name": "python",
   "nbconvert_exporter": "python",
   "pygments_lexer": "ipython3",
   "version": "3.9.12"
  },
  "orig_nbformat": 4,
  "vscode": {
   "interpreter": {
    "hash": "9506aaa6fcb8f977796a58365782b72da5e885b37348b995b0e7ca374eb0ab11"
   }
  }
 },
 "nbformat": 4,
 "nbformat_minor": 2
}
