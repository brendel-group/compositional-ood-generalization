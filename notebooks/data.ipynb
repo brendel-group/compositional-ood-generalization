{
 "cells": [
  {
   "cell_type": "code",
   "execution_count": 1,
   "metadata": {},
   "outputs": [
    {
     "data": {
      "text/plain": [
       "<torch._C.Generator at 0x7f44688fbef0>"
      ]
     },
     "execution_count": 1,
     "metadata": {},
     "output_type": "execute_result"
    }
   ],
   "source": [
    "from pathlib import Path\n",
    "import random\n",
    "import numpy as np\n",
    "import torch\n",
    "from data import Dataset\n",
    "from models import *\n",
    "from vis import *\n",
    "\n",
    "if torch.cuda.is_available():\n",
    "    dev = \"cuda:0\"\n",
    "else:\n",
    "    dev = \"cpu\"\n",
    "dev = torch.device(dev)\n",
    "\n",
    "random.seed(0)\n",
    "np.random.seed(0)\n",
    "torch.manual_seed(0)"
   ]
  },
  {
   "cell_type": "code",
   "execution_count": 4,
   "metadata": {},
   "outputs": [],
   "source": [
    "D = [5, 5]\n",
    "M = [[64, 64, 3], [64, 64, 3]]\n",
    "\n",
    "phi = ParallelSlots([SpriteworldRenderer(d_in, d_out) for d_in, d_out in zip(D, M)])\n",
    "C = OccludeAdd()\n",
    "f = CompositionalFunction(C, phi).to(dev)\n",
    "f.eval()\n",
    "\n",
    "kwargs = dict(\n",
    "    mode = \"orthogonal\",\n",
    "    n_samples = 100000,\n",
    "    distribution=\"normal\",\n",
    "    mean=0.5,\n",
    "    planes=[\n",
    "        (0, [1, 1, 1, 0, 1]),\n",
    "        (1, [0, 0, 0, 0, 0]),\n",
    "        (1, [0.5, 0.5, 0.5, 0, 0.5])\n",
    "    ],\n",
    "    transform = \"scale_latents\"\n",
    ")\n",
    "\n",
    "ds = Dataset(f, dev, **kwargs)"
   ]
  },
  {
   "cell_type": "code",
   "execution_count": 5,
   "metadata": {},
   "outputs": [],
   "source": [
    "name = \"SW2_or12_n1_1e5\"\n",
    "save = Path(f\"/mnt/qb/work/bethge/twiedemer43/data/cood/{name}.pt\")\n",
    "torch.save(ds.tensors, save)"
   ]
  }
 ],
 "metadata": {
  "kernelspec": {
   "display_name": "cood",
   "language": "python",
   "name": "python3"
  },
  "language_info": {
   "codemirror_mode": {
    "name": "ipython",
    "version": 3
   },
   "file_extension": ".py",
   "mimetype": "text/x-python",
   "name": "python",
   "nbconvert_exporter": "python",
   "pygments_lexer": "ipython3",
   "version": "3.9.12"
  },
  "orig_nbformat": 4
 },
 "nbformat": 4,
 "nbformat_minor": 2
}
