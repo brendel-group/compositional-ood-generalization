{
 "cells": [
  {
   "cell_type": "code",
   "execution_count": 1,
   "metadata": {},
   "outputs": [
    {
     "ename": "ModuleNotFoundError",
     "evalue": "No module named 'data'",
     "output_type": "error",
     "traceback": [
      "\u001b[0;31m---------------------------------------------------------------------------\u001b[0m",
      "\u001b[0;31mModuleNotFoundError\u001b[0m                       Traceback (most recent call last)",
      "\u001b[1;32m/home/bethge/twiedemer43/code/cood/notebooks/data.ipynb Cell 1\u001b[0m in \u001b[0;36m<cell line: 3>\u001b[0;34m()\u001b[0m\n\u001b[1;32m      <a href='vscode-notebook-cell://ssh-remote%2Bslurm/home/bethge/twiedemer43/code/cood/notebooks/data.ipynb#W1sdnNjb2RlLXJlbW90ZQ%3D%3D?line=0'>1</a>\u001b[0m \u001b[39mfrom\u001b[39;00m \u001b[39mpathlib\u001b[39;00m \u001b[39mimport\u001b[39;00m Path\n\u001b[1;32m      <a href='vscode-notebook-cell://ssh-remote%2Bslurm/home/bethge/twiedemer43/code/cood/notebooks/data.ipynb#W1sdnNjb2RlLXJlbW90ZQ%3D%3D?line=1'>2</a>\u001b[0m \u001b[39mimport\u001b[39;00m \u001b[39mtorch\u001b[39;00m\n\u001b[0;32m----> <a href='vscode-notebook-cell://ssh-remote%2Bslurm/home/bethge/twiedemer43/code/cood/notebooks/data.ipynb#W1sdnNjb2RlLXJlbW90ZQ%3D%3D?line=2'>3</a>\u001b[0m \u001b[39mfrom\u001b[39;00m \u001b[39mdata\u001b[39;00m \u001b[39mimport\u001b[39;00m Dataset\n\u001b[1;32m      <a href='vscode-notebook-cell://ssh-remote%2Bslurm/home/bethge/twiedemer43/code/cood/notebooks/data.ipynb#W1sdnNjb2RlLXJlbW90ZQ%3D%3D?line=3'>4</a>\u001b[0m \u001b[39mfrom\u001b[39;00m \u001b[39mmodels\u001b[39;00m \u001b[39mimport\u001b[39;00m ParallelSlots, SpriteworldRenderer, OcclusionLinearComposition, CompositionalFunction\n\u001b[1;32m      <a href='vscode-notebook-cell://ssh-remote%2Bslurm/home/bethge/twiedemer43/code/cood/notebooks/data.ipynb#W1sdnNjb2RlLXJlbW90ZQ%3D%3D?line=5'>6</a>\u001b[0m \u001b[39mif\u001b[39;00m torch\u001b[39m.\u001b[39mcuda\u001b[39m.\u001b[39mis_available():\n",
      "\u001b[0;31mModuleNotFoundError\u001b[0m: No module named 'data'"
     ]
    }
   ],
   "source": [
    "from pathlib import Path\n",
    "import torch\n",
    "from data import Dataset\n",
    "from models import ParallelSlots, SpriteworldRenderer, OcclusionLinearComposition, CompositionalFunction\n",
    "\n",
    "if torch.cuda.is_available():\n",
    "    dev = \"cuda:0\"\n",
    "else:\n",
    "    dev = \"cpu\"\n",
    "dev = torch.device(dev)"
   ]
  },
  {
   "cell_type": "code",
   "execution_count": null,
   "metadata": {},
   "outputs": [],
   "source": [
    "D = [5, 5]\n",
    "M = [[64, 64, 3], [64, 64, 3]]\n",
    "\n",
    "phi = ParallelSlots([SpriteworldRenderer(d_in, d_out) for d_in, d_out in zip(D, M)])\n",
    "C = OcclusionLinearComposition(clamp=False)\n",
    "f = CompositionalFunction(C, phi).to(dev)\n",
    "\n",
    "cfg = dict(\n",
    "    mode = \"random\",\n",
    "    n_samples = 10000,\n",
    "    transform = \"scale_latents\"\n",
    ")\n",
    "\n",
    "ds = Dataset(f, dev, **cfg)"
   ]
  },
  {
   "cell_type": "code",
   "execution_count": null,
   "metadata": {},
   "outputs": [],
   "source": [
    "out = Path(\"\")"
   ]
  }
 ],
 "metadata": {
  "kernelspec": {
   "display_name": "cood",
   "language": "python",
   "name": "python3"
  },
  "language_info": {
   "codemirror_mode": {
    "name": "ipython",
    "version": 3
   },
   "file_extension": ".py",
   "mimetype": "text/x-python",
   "name": "python",
   "nbconvert_exporter": "python",
   "pygments_lexer": "ipython3",
   "version": "3.9.12"
  },
  "orig_nbformat": 4
 },
 "nbformat": 4,
 "nbformat_minor": 2
}
